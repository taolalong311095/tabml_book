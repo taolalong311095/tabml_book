{
 "cells": [
  {
   "cell_type": "code",
   "execution_count": null,
   "id": "removed-isaac",
   "metadata": {},
   "outputs": [],
   "source": []
  },
  {
   "cell_type": "code",
   "execution_count": 1,
   "id": "tribal-dominant",
   "metadata": {},
   "outputs": [
    {
     "name": "stdout",
     "output_type": "stream",
     "text": [
      "FileNotFoundError: [Errno 2] No such file or directory: '../data/titanic/train.csv'\r\n"
     ]
    }
   ],
   "source": [
    "!csvlook ../data/titanic/train.csv | head -6 # one additional line as header/content spliter"
   ]
  }
 ],
 "metadata": {
  "jupytext": {
   "text_representation": {
    "extension": ".md",
    "format_name": "myst",
    "format_version": 0.12,
    "jupytext_version": "1.8.2"
   }
  },
  "kernelspec": {
   "display_name": "tabml_book_env",
   "language": "python",
   "name": "tabml_book_env"
  },
  "language_info": {
   "codemirror_mode": {
    "name": "ipython",
    "version": 3
   },
   "file_extension": ".py",
   "mimetype": "text/x-python",
   "name": "python",
   "nbconvert_exporter": "python",
   "pygments_lexer": "ipython3",
   "version": "3.8.7"
  },
  "source_map": [
   12,
   44,
   73,
   77,
   100,
   102,
   106,
   108
  ]
 },
 "nbformat": 4,
 "nbformat_minor": 5
}