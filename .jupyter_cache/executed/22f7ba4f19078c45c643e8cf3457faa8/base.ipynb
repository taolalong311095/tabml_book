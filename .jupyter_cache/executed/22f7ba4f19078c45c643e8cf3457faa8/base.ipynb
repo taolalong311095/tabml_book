{
 "cells": [
  {
   "cell_type": "code",
   "execution_count": 1,
   "id": "optional-ratio",
   "metadata": {},
   "outputs": [],
   "source": [
    "%%capture\n",
    "!rm -rf ../data/titanic; mkdir -p ../data/titanic\n",
    "!kaggle competitions download -c titanic -p ../data/titanic;\n",
    "!cd ../data/titanic; unzip titanic.zip; rm titanic.zip;"
   ]
  },
  {
   "cell_type": "code",
   "execution_count": 2,
   "id": "becoming-samba",
   "metadata": {},
   "outputs": [
    {
     "name": "stdout",
     "output_type": "stream",
     "text": [
      "gender_submission.csv test.csv              train.csv\r\n"
     ]
    }
   ],
   "source": [
    "!ls ../data/titanic"
   ]
  },
  {
   "cell_type": "code",
   "execution_count": 3,
   "id": "driving-leadership",
   "metadata": {
    "tags": [
     "hide-input"
    ]
   },
   "outputs": [],
   "source": [
    "%%capture\n",
    "!rm -rf ../data/rossmann; mkdir -p ../data/rossmann\n",
    "!kaggle competitions download -c rossmann-store-sales -p ../data/rossmann;\n",
    "!cd ../data/rossmann; unzip rossmann-store-sales.zip; rm rossmann-store-sales.zip;"
   ]
  },
  {
   "cell_type": "code",
   "execution_count": 4,
   "id": "every-solid",
   "metadata": {
    "tags": [
     "hide-input"
    ]
   },
   "outputs": [],
   "source": [
    "%%capture\n",
    "!rm -rf ../data/sales; mkdir -p ../data/sales\n",
    "!kaggle competitions download -c competitive-data-science-predict-future-sales -p ../data/sales;\n",
    "!cd ../data/sales; unzip competitive-data-science-predict-future-sales.zip; rm competitive-data-science-predict-future-sales.zip"
   ]
  },
  {
   "cell_type": "code",
   "execution_count": 5,
   "id": "critical-equipment",
   "metadata": {},
   "outputs": [
    {
     "name": "stdout",
     "output_type": "stream",
     "text": [
      "PassengerId,Survived,Pclass,Name,Sex,Age,SibSp,Parch,Ticket,Fare,Cabin,Embarked\r",
      "\r\n",
      "1,0,3,\"Braund, Mr. Owen Harris\",male,22,1,0,A/5 21171,7.25,,S\r",
      "\r\n",
      "2,1,1,\"Cumings, Mrs. John Bradley (Florence Briggs Thayer)\",female,38,1,0,PC 17599,71.2833,C85,C\r",
      "\r\n",
      "3,1,3,\"Heikkinen, Miss. Laina\",female,26,0,0,STON/O2. 3101282,7.925,,S\r",
      "\r\n",
      "4,1,1,\"Futrelle, Mrs. Jacques Heath (Lily May Peel)\",female,35,1,0,113803,53.1,C123,S\r",
      "\r\n"
     ]
    }
   ],
   "source": [
    "!cat ../data/titanic/train.csv | head -5"
   ]
  },
  {
   "cell_type": "code",
   "execution_count": 6,
   "id": "numeric-placement",
   "metadata": {},
   "outputs": [
    {
     "name": "stdout",
     "output_type": "stream",
     "text": [
      "| PassengerId | Survived | Pclass | Name                                                                               | Sex    |   Age | SibSp | Parch | Ticket             |     Fare | Cabin           | Embarked |\r\n",
      "| ----------- | -------- | ------ | ---------------------------------------------------------------------------------- | ------ | ----- | ----- | ----- | ------------------ | -------- | --------------- | -------- |\r\n",
      "|           1 |    False |      3 | Braund, Mr. Owen Harris                                                            | male   | 22.00 |     1 |     0 | A/5 21171          |   7.250… |                 | S        |\r\n",
      "|           2 |     True |      1 | Cumings, Mrs. John Bradley (Florence Briggs Thayer)                                | female | 38.00 |     1 |     0 | PC 17599           |  71.283… | C85             | C        |\r\n",
      "|           3 |     True |      3 | Heikkinen, Miss. Laina                                                             | female | 26.00 |     0 |     0 | STON/O2. 3101282   |   7.925… |                 | S        |\r\n",
      "|           4 |     True |      1 | Futrelle, Mrs. Jacques Heath (Lily May Peel)                                       | female | 35.00 |     1 |     0 | 113803             |  53.100… | C123            | S        |\r\n"
     ]
    }
   ],
   "source": [
    "!csvlook ../data/titanic/train.csv | head -6 # one additional line as header/content spliter"
   ]
  }
 ],
 "metadata": {
  "jupytext": {
   "text_representation": {
    "extension": ".md",
    "format_name": "myst",
    "format_version": 0.12,
    "jupytext_version": "1.8.2"
   }
  },
  "kernelspec": {
   "display_name": "Python 3",
   "language": "python",
   "name": "python3"
  },
  "language_info": {
   "codemirror_mode": {
    "name": "ipython",
    "version": 3
   },
   "file_extension": ".py",
   "mimetype": "text/x-python",
   "name": "python",
   "nbconvert_exporter": "python",
   "pygments_lexer": "ipython3",
   "version": "3.8.7"
  },
  "source_map": [
   12,
   44,
   49,
   56,
   58,
   87,
   94,
   98,
   105,
   128,
   130,
   134,
   136
  ]
 },
 "nbformat": 4,
 "nbformat_minor": 5
}