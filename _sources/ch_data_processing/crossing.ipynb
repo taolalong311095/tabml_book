{
 "cells": [
  {
   "cell_type": "markdown",
   "id": "6f60cc26",
   "metadata": {},
   "source": [
    "(sec_crossing)=\n",
    "# Crossing"
   ]
  },
  {
   "cell_type": "code",
   "execution_count": null,
   "id": "25d24c2f",
   "metadata": {},
   "outputs": [],
   "source": []
  }
 ],
 "metadata": {
  "jupytext": {
   "text_representation": {
    "extension": ".md",
    "format_name": "myst",
    "format_version": 0.12,
    "jupytext_version": "1.8.2"
   }
  },
  "kernelspec": {
   "display_name": "Python 3",
   "language": "python",
   "name": "python3"
  },
  "language_info": {
   "codemirror_mode": {
    "name": "ipython",
    "version": 3
   },
   "file_extension": ".py",
   "mimetype": "text/x-python",
   "name": "python",
   "nbconvert_exporter": "python",
   "pygments_lexer": "ipython3",
   "version": "3.8.7"
  },
  "source_map": [
   12,
   17
  ]
 },
 "nbformat": 4,
 "nbformat_minor": 5
}